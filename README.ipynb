{
 "cells": [
  {
   "cell_type": "markdown",
   "metadata": {},
   "source": [
    "# README"
   ]
  },
  {
   "cell_type": "markdown",
   "metadata": {},
   "source": [
    "## <b>Websocket Based Chat Application"
   ]
  },
  {
   "cell_type": "markdown",
   "metadata": {},
   "source": [
    "### <b>Project Description:</b>\n",
    "\n",
    "The goal of this project was to design, developand secure a multi-party chat application that adheres to a collaboratively standardized protocol among peers. This application can facilitate secure communication between multiple parties, incorporating advanced secure coding practices and intentional vulnerabilities.\n",
    "\n",
    "The secure chat application will provide the following features:\n",
    "<ul><li>Listing all members of the chat system\n",
    "<li>Private messaging between individual participants\n",
    "<li>Group messaging to all participants\n",
    "<li>Point-to-point file transfer\n",
    "<ul>"
   ]
  },
  {
   "cell_type": "markdown",
   "metadata": {},
   "source": [
    "### <b>List of Contents:</b>\n",
    "<ol><li>Technologies Used</li>\n",
    "  <li> Installing the code</li>\n",
    "  <li> Prerequisites</li>\n",
    "  <li> Configuration on the Server and Client</li>\n",
    "  <li> Starting the Server</li>\n",
    "  <li> Running the Client</li>\n",
    "  <li> Usage</li>\n",
    "  <li> Our Team</li>\n",
    "</ol>"
   ]
  },
  {
   "cell_type": "markdown",
   "metadata": {},
   "source": [
    "### <b>1) Technologies Used:</b>\n",
    "List of the main programming languages, frameworks, libraries, and tools we used to build this project:\n",
    "<ul>\n",
    "  <li>JavaScript</li>\n",
    "  <li>HTML</li>\n",
    "  <li>Websockets JS library \"ws\"</li>\n",
    "  <li>Cryptography JS library \"crypto\"</li>\n",
    "  <li>Config JS library \"config\"</li>\n",
    "  <li>A Latest Updated Web Browser</li>\n",
    "</ul>"
   ]
  },
  {
   "cell_type": "markdown",
   "metadata": {},
   "source": [
    "### <b>2) Installing the Code</b>\n",
    "###### <em>Instructions are Identical for Windows and Linux</em>\n",
    "<ul>\n",
    "<li>Install and configure the project locally.\n",
    "<br><br>\n",
    "<li>Clone this repository: \n"
   ]
  },
  {
   "cell_type": "code",
   "execution_count": 4,
   "metadata": {},
   "outputs": [],
   "source": [
    "# git clone https://github.com/username/project.git"
   ]
  },
  {
   "cell_type": "markdown",
   "metadata": {},
   "source": [
    "Navigate into the project directory: cd <b>path</b>"
   ]
  },
  {
   "cell_type": "code",
   "execution_count": null,
   "metadata": {},
   "outputs": [],
   "source": [
    "# cd \"path_to_repo_local\""
   ]
  },
  {
   "cell_type": "markdown",
   "metadata": {},
   "source": [
    "### <b>3) Prerequisites:</b>\n",
    "\n",
    "###### <em>Instructions are Identical for Windows and Linux</em>"
   ]
  },
  {
   "cell_type": "markdown",
   "metadata": {},
   "source": [
    "\n",
    "<li>Install <b>Node.js</b><br><br>\n",
    "We Recommend installing using the Prebuilt Installer Version<br>\n",
    "\n",
    "<em>url</em>: https://nodejs.org/en/download/package-manager\n"
   ]
  },
  {
   "cell_type": "markdown",
   "metadata": {},
   "source": [
    "<li>In the project directory created above intitalize a node js repository:"
   ]
  },
  {
   "cell_type": "code",
   "execution_count": null,
   "metadata": {},
   "outputs": [],
   "source": [
    "# npm -init "
   ]
  },
  {
   "cell_type": "markdown",
   "metadata": {},
   "source": [
    "<li>Install the depedencies using:"
   ]
  },
  {
   "cell_type": "code",
   "execution_count": 1,
   "metadata": {},
   "outputs": [],
   "source": [
    "# npm install ws crypto config fs"
   ]
  },
  {
   "cell_type": "markdown",
   "metadata": {},
   "source": [
    "<li> This satisfies the following requirements:"
   ]
  },
  {
   "cell_type": "code",
   "execution_count": null,
   "metadata": {},
   "outputs": [],
   "source": [
    "# const WebSocket = require('ws');\n",
    "# const crypto = require('crypto');\n",
    "# const config = require('config');"
   ]
  },
  {
   "cell_type": "markdown",
   "metadata": {},
   "source": [
    "in case of error try independent install for all libraries"
   ]
  },
  {
   "cell_type": "markdown",
   "metadata": {},
   "source": [
    "### <b>4) Configuration:</b>\n",
    "###### <em>Instructions are Identical for Windows and Linux</em>\n"
   ]
  },
  {
   "cell_type": "markdown",
   "metadata": {},
   "source": [
    "##### <b>a) Server Side:</b><br>\n"
   ]
  },
  {
   "cell_type": "markdown",
   "metadata": {},
   "source": [
    "In the <b>\"default.json\"</b> file:"
   ]
  },
  {
   "cell_type": "markdown",
   "metadata": {},
   "source": [
    "&nbsp;The IP and Server Domain name can be configured here:\n",
    "\n",
    "<li><b>serverMapping</b> is the dictionary that maps domain names to ip addresses in the code. <br><br>\n",
    "    Please include information of all servers you want to connect to<br><br>\n"
   ]
  },
  {
   "cell_type": "code",
   "execution_count": null,
   "metadata": {},
   "outputs": [],
   "source": [
    "# {\n",
    "#     \"serverMapping\": {\n",
    "#       \"s1\": \"ws://IP_ADDRESS:5555\",\n",
    "#       \"s2\": \"ws://IP_ADDRESS:5555\"\n",
    "#     }"
   ]
  },
  {
   "cell_type": "markdown",
   "metadata": {},
   "source": [
    "<li><b>registeredUsers</b> is the dictionary that maps userid and hashed (sha256) password of all users connected on this server"
   ]
  },
  {
   "cell_type": "code",
   "execution_count": 1,
   "metadata": {},
   "outputs": [],
   "source": [
    "#     \"registeredUsers\": {\n",
    "#       \"aryan@s1\": \"7549920a8f8c5dec3f1dcdb7a5eb7840ea1e52f2ee40fe70b6d1fb376aed3a8d\",     #passwd123\n",
    "#       \"ash@s1\": \"7d082e414f09c5ca390197afe48109943e2597c782e58e4262b14303477c1b6b\",       #passwd456\n",
    "#       \"shivang@s1\": \"12b0c9632941cc3aa7075eacc55d4919cadd5c1bd8690460e696bee538db87aa\",   #passwd789\n",
    "#       \"buffer@s1\": \"buffer\"\n",
    "#     }"
   ]
  },
  {
   "cell_type": "markdown",
   "metadata": {},
   "source": [
    "In the <b>\"server.js\"</b> file:"
   ]
  },
  {
   "cell_type": "markdown",
   "metadata": {},
   "source": [
    "<li>Set server <b>Domain Name:"
   ]
  },
  {
   "cell_type": "code",
   "execution_count": 13,
   "metadata": {},
   "outputs": [],
   "source": [
    "# const DOMAIN = \"server_name\";"
   ]
  },
  {
   "cell_type": "markdown",
   "metadata": {},
   "source": [
    "##### <b>b) Client Side:</b>\n",
    "In the Client code in the script section:<br><br>\n",
    "Set the IP to the IP of the server you want to connect it to"
   ]
  },
  {
   "cell_type": "code",
   "execution_count": 13,
   "metadata": {},
   "outputs": [],
   "source": [
    "# const ws = new WebSocket('ws://THE_SERVER_IP:5555');"
   ]
  },
  {
   "cell_type": "markdown",
   "metadata": {},
   "source": [
    "### <b>5) Starting The Server:</b>\n",
    "###### <em>Instructions are Identical for Windows and Linux</em>"
   ]
  },
  {
   "cell_type": "markdown",
   "metadata": {},
   "source": [
    "##### Independently Running the server:"
   ]
  },
  {
   "cell_type": "markdown",
   "metadata": {},
   "source": [
    "In the Terminal:"
   ]
  },
  {
   "cell_type": "code",
   "execution_count": 14,
   "metadata": {},
   "outputs": [],
   "source": [
    "# PS C:\\Users\\Stewie\\Desktop\\server 01> node \"c:\\Users\\Stewie\\Desktop\\server 01\\server 01.js\""
   ]
  },
  {
   "cell_type": "markdown",
   "metadata": {},
   "source": [
    "###### <b>OUTPUT:"
   ]
  },
  {
   "cell_type": "code",
   "execution_count": null,
   "metadata": {},
   "outputs": [],
   "source": [
    "# WebSocket server started on 5555:"
   ]
  },
  {
   "cell_type": "markdown",
   "metadata": {},
   "source": [
    "##### Need to connect to other servers?"
   ]
  },
  {
   "cell_type": "markdown",
   "metadata": {},
   "source": [
    "To connect to multiple servers, At the bottom of the server code in the main function:<br>"
   ]
  },
  {
   "cell_type": "code",
   "execution_count": 10,
   "metadata": {},
   "outputs": [],
   "source": [
    "# async function main() {\n",
    "#     const wss = new WebSocket.Server({ port: 5555 });\n",
    "#     wss.on('connection', handler);\n",
    "#     console.log(\"WebSocket server started on ws://192.168.225.66:5555\");\n",
    "#     await connectToServer(\"s2\");\n",
    "# }"
   ]
  },
  {
   "cell_type": "markdown",
   "metadata": {},
   "source": [
    "You are able to add multiple statements to connect to multiple servers....YAY!!!!"
   ]
  },
  {
   "cell_type": "code",
   "execution_count": 15,
   "metadata": {},
   "outputs": [],
   "source": [
    "# await connectToServer(\"DOMAIN_OF_TARGET_SERVER\");"
   ]
  },
  {
   "cell_type": "markdown",
   "metadata": {},
   "source": [
    "###### <b>OUTPUT:"
   ]
  },
  {
   "cell_type": "code",
   "execution_count": 5,
   "metadata": {},
   "outputs": [],
   "source": [
    "# WebSocket server started on 5555\n",
    "#Connected to server \"DNAME\" "
   ]
  },
  {
   "cell_type": "markdown",
   "metadata": {},
   "source": [
    "### <b>6) Running the Client:</b>\n",
    "###### <em>Instructions are Identical for Windows and Linux</em>\n",
    "\n",
    "Open the client code by opening it in any recently updated browser"
   ]
  },
  {
   "cell_type": "markdown",
   "metadata": {},
   "source": [
    "### <b>7) Usage:</b>\n",
    "###### <em>Instructions are Identical for Windows and Linux</em>\n",
    "The GUI on the client side is quite intuitive and once a user logs in, they can:\n",
    "<ul>\n",
    "<li>send a target message to any user, \n",
    "<li>broadcast a message to all users, \n",
    "<li>file share with a specified target user. \n",
    "</ul>\n",
    "The File shared is presented as a link in the message box as any message. The link can be clicked to download the file on the client machine\n",
    "\n",
    "Please note: <b>the target user for the target message and file transfer are input in the same textfield. </b>"
   ]
  },
  {
   "cell_type": "markdown",
   "metadata": {},
   "source": [
    "### <b>8) OUR TEAM </b>\n",
    "<li>Aryan Puri\n",
    "<li>Shivang Patel \n",
    "<li>Aashaykumar Shah\n",
    "<li>Kartik Dangi"
   ]
  },
  {
   "cell_type": "markdown",
   "metadata": {},
   "source": []
  }
 ],
 "metadata": {
  "kernelspec": {
   "display_name": "Python 3",
   "language": "python",
   "name": "python3"
  },
  "language_info": {
   "codemirror_mode": {
    "name": "ipython",
    "version": 3
   },
   "file_extension": ".py",
   "mimetype": "text/x-python",
   "name": "python",
   "nbconvert_exporter": "python",
   "pygments_lexer": "ipython3",
   "version": "3.12.4"
  }
 },
 "nbformat": 4,
 "nbformat_minor": 2
}
